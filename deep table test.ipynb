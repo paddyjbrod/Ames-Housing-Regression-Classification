{
 "cells": [
  {
   "cell_type": "code",
   "execution_count": null,
   "metadata": {},
   "outputs": [],
   "source": [
    "# %pip install deeptables"
   ]
  },
  {
   "cell_type": "code",
   "execution_count": 1,
   "metadata": {},
   "outputs": [],
   "source": [
    "from deeptables.models.deeptable import DeepTable, ModelConfig\n",
    "from deeptables.datasets import dsutils\n",
    "from sklearn.model_selection import train_test_split\n",
    "import numpy as np\n",
    "import scipy.stats as stats\n",
    "import seaborn as sns\n",
    "import matplotlib.pyplot as plt\n",
    "import pandas as pd\n",
    "from IPython.display import display\n",
    "from sklearn.model_selection import cross_val_score, train_test_split\n",
    "from sklearn.preprocessing import StandardScaler\n",
    "from sklearn.linear_model import LinearRegression, RidgeCV, LassoCV, ElasticNetCV\n",
    "from sklearn.metrics import mean_squared_error, make_scorer\n",
    "import xgboost\n",
    "import warnings\n",
    "warnings.filterwarnings(\"ignore\")\n",
    "\n",
    "pd.set_option('display.max_columns', 500)\n",
    "\n",
    "sns.set_style('whitegrid')\n",
    "\n",
    "%config InlineBackend.figure_format = 'retina'\n",
    "%matplotlib inline"
   ]
  },
  {
   "cell_type": "code",
   "execution_count": 2,
   "metadata": {},
   "outputs": [],
   "source": [
    "df_train = pd.read_csv('housingclean')\n",
    "\n",
    "df_train.drop(\"Unnamed: 0\", axis=1, inplace=True)"
   ]
  },
  {
   "cell_type": "code",
   "execution_count": 3,
   "metadata": {},
   "outputs": [],
   "source": [
    "y = df_train.pop('SalePrice')\n",
    "X = df_train"
   ]
  },
  {
   "cell_type": "code",
   "execution_count": 4,
   "metadata": {},
   "outputs": [
    {
     "name": "stdout",
     "output_type": "stream",
     "text": [
      "Target column type is float, so inferred as a [regression] task.\n",
      "Preparing features cost:0.021937847137451172\n",
      "Imputation cost:0.03343963623046875\n",
      "Categorical encoding cost:0.11652636528015137\n",
      "fit_transform cost:0.17389631271362305\n",
      "Injected a callback [EarlyStopping]. monitor:val_RootMeanSquaredError, patience:5, mode:min\n",
      ">>>>>>>>>>>>>>>>>>>>>> Model Desc <<<<<<<<<<<<<<<<<<<<<<< \n",
      "---------------------------------------------------------\n",
      "inputs:\n",
      "---------------------------------------------------------\n",
      "['all_categorical_vars: (43)', 'input_continuous_all: (34)']\n",
      "---------------------------------------------------------\n",
      "embeddings:\n",
      "---------------------------------------------------------\n",
      "input_dims: [6, 4, 5, 6, 6, 3, 7, 5, 26, 11, 8, 7, 10, 8, 10, 17, 18, 7, 6, 6, 8, 7, 7, 7, 9, 9, 8, 6, 4, 8, 6, 9, 8, 9, 6, 8, 8, 5, 6, 7, 7, 11, 8]\n",
      "output_dims: [4, 4, 4, 4, 4, 4, 4, 4, 4, 4, 4, 4, 4, 4, 4, 4, 4, 4, 4, 4, 4, 4, 4, 4, 4, 4, 4, 4, 4, 4, 4, 4, 4, 4, 4, 4, 4, 4, 4, 4, 4, 4, 4]\n",
      "dropout: 0.3\n",
      "---------------------------------------------------------\n",
      "dense: dropout: 0\n",
      "batch_normalization: False\n",
      "---------------------------------------------------------\n",
      "concat_embed_dense: shape: (None, 206)\n",
      "---------------------------------------------------------\n",
      "nets: ['dnn_nets']\n",
      "---------------------------------------------------------\n",
      "dnn: input_shape (None, 206), output_shape (None, 64)\n",
      "---------------------------------------------------------\n",
      "stacking_op: add\n",
      "---------------------------------------------------------\n",
      "output: activation: None, output_shape: (None, 1), use_bias: True\n",
      "loss: mse\n",
      "optimizer: Adam\n",
      "---------------------------------------------------------\n",
      "\n",
      "Train on 928 samples, validate on 232 samples\n",
      "Epoch 1/100\n",
      "928/928 [==============================] - 8s 8ms/sample - loss: 110.1779 - RootMeanSquaredError: 10.4966 - val_loss: 18952.2637 - val_RootMeanSquaredError: 137.6672\n",
      "Epoch 2/100\n",
      "928/928 [==============================] - 0s 197us/sample - loss: 66.0689 - RootMeanSquaredError: 8.1283 - val_loss: 26688.6506 - val_RootMeanSquaredError: 163.3666\n",
      "Epoch 3/100\n",
      "928/928 [==============================] - 0s 187us/sample - loss: 30.8408 - RootMeanSquaredError: 5.5535 - val_loss: 34359.0574 - val_RootMeanSquaredError: 185.3620\n",
      "Epoch 4/100\n",
      "928/928 [==============================] - 0s 212us/sample - loss: 8.6596 - RootMeanSquaredError: 2.9427 - val_loss: 37219.4266 - val_RootMeanSquaredError: 192.9234\n",
      "Epoch 5/100\n",
      "928/928 [==============================] - 0s 190us/sample - loss: 2.7974 - RootMeanSquaredError: 1.6725 - val_loss: 31769.6490 - val_RootMeanSquaredError: 178.2404\n",
      "Epoch 6/100\n",
      "896/928 [===========================>..] - ETA: 0s - loss: 3.5668 - RootMeanSquaredError: 1.8886Restoring model weights from the end of the best epoch.\n",
      "928/928 [==============================] - 0s 201us/sample - loss: 3.5826 - RootMeanSquaredError: 1.8928 - val_loss: 23392.5418 - val_RootMeanSquaredError: 152.9462\n",
      "Epoch 00006: early stopping\n",
      "Model has been saved to:dt_output/dt_20200803 143114_dnn_nets/dnn_nets.h5\n"
     ]
    }
   ],
   "source": [
    "\n",
    "\n",
    "conf = ModelConfig(\n",
    "    metrics=['RootMeanSquaredError'], \n",
    "    nets=['dnn_nets'],\n",
    "    dnn_params={\n",
    "        'dnn_units': ((256, 0.3, True), (256, 0.3, True)),\n",
    "        'dnn_activation': 'relu',\n",
    "    },\n",
    "    earlystopping_patience=5,\n",
    ")\n",
    "\n",
    "dt = DeepTable(config=conf)\n",
    "\n",
    "X_train, X_test, y_train, y_test = train_test_split(X, y, test_size=0.2, random_state=42)\n",
    "model, history = dt.fit(X_train, y_train, epochs=100)\n"
   ]
  },
  {
   "cell_type": "code",
   "execution_count": null,
   "metadata": {},
   "outputs": [],
   "source": [
    "# preds=model.predict(X_test)"
   ]
  },
  {
   "cell_type": "code",
   "execution_count": 5,
   "metadata": {},
   "outputs": [
    {
     "name": "stdout",
     "output_type": "stream",
     "text": [
      "transform_X cost:0.21671819686889648\n",
      "transform_y cost:0.0\n"
     ]
    }
   ],
   "source": [
    "\n",
    "score = dt.evaluate(X_test, y_test)"
   ]
  },
  {
   "cell_type": "code",
   "execution_count": 6,
   "metadata": {},
   "outputs": [
    {
     "name": "stdout",
     "output_type": "stream",
     "text": [
      "transform_X cost:0.21645069122314453\n",
      "predict_proba cost:0.6133897304534912\n"
     ]
    }
   ],
   "source": [
    "preds = dt.predict(X_test)"
   ]
  },
  {
   "cell_type": "code",
   "execution_count": 7,
   "metadata": {},
   "outputs": [
    {
     "name": "stdout",
     "output_type": "stream",
     "text": [
      "Root Mean Square Error of model on test data is: $137\n",
      "transform_X cost:0.7445669174194336\n",
      "predict_proba cost:0.8722269535064697\n",
      "Root Mean Square Error of model on train data is: $137\n"
     ]
    }
   ],
   "source": [
    "print(f'Root Mean Square Error of model on test data is: \\\n",
    "${int(mean_squared_error(y_test,preds)**0.5)}')\n",
    "\n",
    "print(f'Root Mean Square Error of model on train data is: \\\n",
    "${int(mean_squared_error(y_train, dt.predict(X_train))**0.5)}')"
   ]
  },
  {
   "cell_type": "code",
   "execution_count": null,
   "metadata": {},
   "outputs": [],
   "source": [
    "y_test"
   ]
  },
  {
   "cell_type": "code",
   "execution_count": null,
   "metadata": {},
   "outputs": [],
   "source": [
    "preds"
   ]
  }
 ],
 "metadata": {
  "kernelspec": {
   "display_name": "Python 3",
   "language": "python",
   "name": "python3"
  },
  "language_info": {
   "codemirror_mode": {
    "name": "ipython",
    "version": 3
   },
   "file_extension": ".py",
   "mimetype": "text/x-python",
   "name": "python",
   "nbconvert_exporter": "python",
   "pygments_lexer": "ipython3",
   "version": "3.7.6"
  }
 },
 "nbformat": 4,
 "nbformat_minor": 4
}
